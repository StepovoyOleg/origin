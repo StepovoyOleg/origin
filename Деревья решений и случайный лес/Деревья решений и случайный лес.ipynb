{
  "cells": [
    {
      "cell_type": "code",
      "execution_count": 82,
      "metadata": {
        "id": "0smCupJnhCRx"
      },
      "outputs": [],
      "source": [
        "import pandas as pd\n",
        "import numpy as np\n",
        "\n",
        "\n",
        "train = pd.read_csv(\"cars_train.csv\")\n",
        "test = pd.read_csv(\"cars_test.csv\")"
      ]
    },
    {
      "cell_type": "code",
      "execution_count": 83,
      "metadata": {
        "id": "2tLR6TQAiuXf"
      },
      "outputs": [],
      "source": [
        "X_test, X_train =  test.drop('selling_price', axis=1), train.drop('selling_price', axis=1), \n",
        "ytrain,ytest = train.selling_price, test.selling_price"
      ]
    },
    {
      "cell_type": "code",
      "execution_count": 84,
      "metadata": {},
      "outputs": [
        {
          "name": "stdout",
          "output_type": "stream",
          "text": [
            "Число пропусков ytrain 299\n"
          ]
        }
      ],
      "source": [
        "print(f'Число пропусков ytrain {ytrain.isna().sum()}')"
      ]
    },
    {
      "cell_type": "code",
      "execution_count": 85,
      "metadata": {},
      "outputs": [],
      "source": [
        "miss = ytrain.isna()\n",
        "ytrain= ytrain.drop(ytrain[miss].index)\n",
        "X_train= X_train.drop(X_train[miss].index)"
      ]
    },
    {
      "cell_type": "code",
      "execution_count": 86,
      "metadata": {},
      "outputs": [
        {
          "name": "stdout",
          "output_type": "stream",
          "text": [
            "Число пропусков ytrain 0\n"
          ]
        }
      ],
      "source": [
        "print(f'Число пропусков ytrain {ytrain.isna().sum()}')"
      ]
    },
    {
      "cell_type": "code",
      "execution_count": 87,
      "metadata": {},
      "outputs": [],
      "source": [
        "def feature_extraction(value):\n",
        "    try:\n",
        "        value = float(value.split(' ')[0])\n",
        "        return value\n",
        "    except:\n",
        "        return None"
      ]
    },
    {
      "cell_type": "code",
      "execution_count": 88,
      "metadata": {},
      "outputs": [
        {
          "data": {
            "text/html": [
              "<div>\n",
              "<style scoped>\n",
              "    .dataframe tbody tr th:only-of-type {\n",
              "        vertical-align: middle;\n",
              "    }\n",
              "\n",
              "    .dataframe tbody tr th {\n",
              "        vertical-align: top;\n",
              "    }\n",
              "\n",
              "    .dataframe thead th {\n",
              "        text-align: right;\n",
              "    }\n",
              "</style>\n",
              "<table border=\"1\" class=\"dataframe\">\n",
              "  <thead>\n",
              "    <tr style=\"text-align: right;\">\n",
              "      <th></th>\n",
              "      <th>name</th>\n",
              "      <th>year</th>\n",
              "      <th>km_driven</th>\n",
              "      <th>fuel</th>\n",
              "      <th>seller_type</th>\n",
              "      <th>transmission</th>\n",
              "      <th>owner</th>\n",
              "      <th>mileage</th>\n",
              "      <th>engine</th>\n",
              "      <th>max_power</th>\n",
              "      <th>torque</th>\n",
              "      <th>seats</th>\n",
              "    </tr>\n",
              "  </thead>\n",
              "  <tbody>\n",
              "    <tr>\n",
              "      <th>0</th>\n",
              "      <td>Mahindra Xylo E4 BS IV</td>\n",
              "      <td>2010</td>\n",
              "      <td>168000</td>\n",
              "      <td>Diesel</td>\n",
              "      <td>Individual</td>\n",
              "      <td>Manual</td>\n",
              "      <td>First Owner</td>\n",
              "      <td>14.0 kmpl</td>\n",
              "      <td>2498 CC</td>\n",
              "      <td>112 bhp</td>\n",
              "      <td>260 Nm at 1800-2200 rpm</td>\n",
              "      <td>7.0</td>\n",
              "    </tr>\n",
              "    <tr>\n",
              "      <th>1</th>\n",
              "      <td>Tata Nexon 1.5 Revotorq XE</td>\n",
              "      <td>2017</td>\n",
              "      <td>25000</td>\n",
              "      <td>Diesel</td>\n",
              "      <td>Individual</td>\n",
              "      <td>Manual</td>\n",
              "      <td>First Owner</td>\n",
              "      <td>21.5 kmpl</td>\n",
              "      <td>1497 CC</td>\n",
              "      <td>108.5 bhp</td>\n",
              "      <td>260Nm@ 1500-2750rpm</td>\n",
              "      <td>5.0</td>\n",
              "    </tr>\n",
              "    <tr>\n",
              "      <th>2</th>\n",
              "      <td>Honda Civic 1.8 S AT</td>\n",
              "      <td>2007</td>\n",
              "      <td>218463</td>\n",
              "      <td>Petrol</td>\n",
              "      <td>Individual</td>\n",
              "      <td>Automatic</td>\n",
              "      <td>First Owner</td>\n",
              "      <td>12.9 kmpl</td>\n",
              "      <td>1799 CC</td>\n",
              "      <td>130 bhp</td>\n",
              "      <td>172Nm@ 4300rpm</td>\n",
              "      <td>5.0</td>\n",
              "    </tr>\n",
              "    <tr>\n",
              "      <th>3</th>\n",
              "      <td>Honda City i DTEC VX</td>\n",
              "      <td>2015</td>\n",
              "      <td>173000</td>\n",
              "      <td>Diesel</td>\n",
              "      <td>Individual</td>\n",
              "      <td>Manual</td>\n",
              "      <td>First Owner</td>\n",
              "      <td>25.1 kmpl</td>\n",
              "      <td>1498 CC</td>\n",
              "      <td>98.6 bhp</td>\n",
              "      <td>200Nm@ 1750rpm</td>\n",
              "      <td>5.0</td>\n",
              "    </tr>\n",
              "    <tr>\n",
              "      <th>4</th>\n",
              "      <td>Tata Indica Vista Aura 1.2 Safire BSIV</td>\n",
              "      <td>2011</td>\n",
              "      <td>70000</td>\n",
              "      <td>Petrol</td>\n",
              "      <td>Individual</td>\n",
              "      <td>Manual</td>\n",
              "      <td>Second Owner</td>\n",
              "      <td>16.5 kmpl</td>\n",
              "      <td>1172 CC</td>\n",
              "      <td>65 bhp</td>\n",
              "      <td>96  Nm at 3000  rpm</td>\n",
              "      <td>5.0</td>\n",
              "    </tr>\n",
              "  </tbody>\n",
              "</table>\n",
              "</div>"
            ],
            "text/plain": [
              "                                     name  year  km_driven    fuel  \\\n",
              "0                  Mahindra Xylo E4 BS IV  2010     168000  Diesel   \n",
              "1              Tata Nexon 1.5 Revotorq XE  2017      25000  Diesel   \n",
              "2                    Honda Civic 1.8 S AT  2007     218463  Petrol   \n",
              "3                    Honda City i DTEC VX  2015     173000  Diesel   \n",
              "4  Tata Indica Vista Aura 1.2 Safire BSIV  2011      70000  Petrol   \n",
              "\n",
              "  seller_type transmission         owner    mileage   engine  max_power  \\\n",
              "0  Individual       Manual   First Owner  14.0 kmpl  2498 CC    112 bhp   \n",
              "1  Individual       Manual   First Owner  21.5 kmpl  1497 CC  108.5 bhp   \n",
              "2  Individual    Automatic   First Owner  12.9 kmpl  1799 CC    130 bhp   \n",
              "3  Individual       Manual   First Owner  25.1 kmpl  1498 CC   98.6 bhp   \n",
              "4  Individual       Manual  Second Owner  16.5 kmpl  1172 CC     65 bhp   \n",
              "\n",
              "                    torque  seats  \n",
              "0  260 Nm at 1800-2200 rpm    7.0  \n",
              "1      260Nm@ 1500-2750rpm    5.0  \n",
              "2           172Nm@ 4300rpm    5.0  \n",
              "3           200Nm@ 1750rpm    5.0  \n",
              "4     96  Nm at 3000  rpm     5.0  "
            ]
          },
          "execution_count": 88,
          "metadata": {},
          "output_type": "execute_result"
        }
      ],
      "source": [
        "X_test.head()"
      ]
    },
    {
      "cell_type": "code",
      "execution_count": 89,
      "metadata": {},
      "outputs": [],
      "source": [
        "columns = ['mileage', 'engine', 'max_power']\n",
        "for column in columns:\n",
        "    X_train[column] = X_train[column].apply(lambda x: feature_extraction(x))\n",
        "    X_test[column] = X_test[column].apply(lambda x: feature_extraction(x))"
      ]
    },
    {
      "cell_type": "code",
      "execution_count": 90,
      "metadata": {},
      "outputs": [
        {
          "data": {
            "text/html": [
              "<div>\n",
              "<style scoped>\n",
              "    .dataframe tbody tr th:only-of-type {\n",
              "        vertical-align: middle;\n",
              "    }\n",
              "\n",
              "    .dataframe tbody tr th {\n",
              "        vertical-align: top;\n",
              "    }\n",
              "\n",
              "    .dataframe thead th {\n",
              "        text-align: right;\n",
              "    }\n",
              "</style>\n",
              "<table border=\"1\" class=\"dataframe\">\n",
              "  <thead>\n",
              "    <tr style=\"text-align: right;\">\n",
              "      <th></th>\n",
              "      <th>name</th>\n",
              "      <th>year</th>\n",
              "      <th>km_driven</th>\n",
              "      <th>fuel</th>\n",
              "      <th>seller_type</th>\n",
              "      <th>transmission</th>\n",
              "      <th>owner</th>\n",
              "      <th>mileage</th>\n",
              "      <th>engine</th>\n",
              "      <th>max_power</th>\n",
              "      <th>torque</th>\n",
              "      <th>seats</th>\n",
              "    </tr>\n",
              "  </thead>\n",
              "  <tbody>\n",
              "    <tr>\n",
              "      <th>0</th>\n",
              "      <td>Maruti Swift Dzire VDI</td>\n",
              "      <td>2014.0</td>\n",
              "      <td>145500.0</td>\n",
              "      <td>Diesel</td>\n",
              "      <td>Individual</td>\n",
              "      <td>Manual</td>\n",
              "      <td>First Owner</td>\n",
              "      <td>23.40</td>\n",
              "      <td>1248.0</td>\n",
              "      <td>74.00</td>\n",
              "      <td>190Nm@ 2000rpm</td>\n",
              "      <td>5.0</td>\n",
              "    </tr>\n",
              "    <tr>\n",
              "      <th>1</th>\n",
              "      <td>Skoda Rapid 1.5 TDI Ambition</td>\n",
              "      <td>2014.0</td>\n",
              "      <td>120000.0</td>\n",
              "      <td>Diesel</td>\n",
              "      <td>Individual</td>\n",
              "      <td>Manual</td>\n",
              "      <td>Second Owner</td>\n",
              "      <td>21.14</td>\n",
              "      <td>1498.0</td>\n",
              "      <td>103.52</td>\n",
              "      <td>250Nm@ 1500-2500rpm</td>\n",
              "      <td>5.0</td>\n",
              "    </tr>\n",
              "    <tr>\n",
              "      <th>2</th>\n",
              "      <td>Hyundai i20 Sportz Diesel</td>\n",
              "      <td>2010.0</td>\n",
              "      <td>127000.0</td>\n",
              "      <td>Diesel</td>\n",
              "      <td>Individual</td>\n",
              "      <td>Manual</td>\n",
              "      <td>First Owner</td>\n",
              "      <td>23.00</td>\n",
              "      <td>1396.0</td>\n",
              "      <td>90.00</td>\n",
              "      <td>22.4 kgm at 1750-2750rpm</td>\n",
              "      <td>5.0</td>\n",
              "    </tr>\n",
              "    <tr>\n",
              "      <th>4</th>\n",
              "      <td>Hyundai Xcent 1.2 VTVT E Plus</td>\n",
              "      <td>2017.0</td>\n",
              "      <td>45000.0</td>\n",
              "      <td>Petrol</td>\n",
              "      <td>Individual</td>\n",
              "      <td>Manual</td>\n",
              "      <td>First Owner</td>\n",
              "      <td>20.14</td>\n",
              "      <td>1197.0</td>\n",
              "      <td>81.86</td>\n",
              "      <td>113.75nm@ 4000rpm</td>\n",
              "      <td>5.0</td>\n",
              "    </tr>\n",
              "    <tr>\n",
              "      <th>6</th>\n",
              "      <td>Maruti 800 DX BSII</td>\n",
              "      <td>2001.0</td>\n",
              "      <td>5000.0</td>\n",
              "      <td>Petrol</td>\n",
              "      <td>Individual</td>\n",
              "      <td>Manual</td>\n",
              "      <td>Second Owner</td>\n",
              "      <td>16.10</td>\n",
              "      <td>796.0</td>\n",
              "      <td>37.00</td>\n",
              "      <td>59Nm@ 2500rpm</td>\n",
              "      <td>4.0</td>\n",
              "    </tr>\n",
              "  </tbody>\n",
              "</table>\n",
              "</div>"
            ],
            "text/plain": [
              "                            name    year  km_driven    fuel seller_type  \\\n",
              "0         Maruti Swift Dzire VDI  2014.0   145500.0  Diesel  Individual   \n",
              "1   Skoda Rapid 1.5 TDI Ambition  2014.0   120000.0  Diesel  Individual   \n",
              "2      Hyundai i20 Sportz Diesel  2010.0   127000.0  Diesel  Individual   \n",
              "4  Hyundai Xcent 1.2 VTVT E Plus  2017.0    45000.0  Petrol  Individual   \n",
              "6             Maruti 800 DX BSII  2001.0     5000.0  Petrol  Individual   \n",
              "\n",
              "  transmission         owner  mileage  engine  max_power  \\\n",
              "0       Manual   First Owner    23.40  1248.0      74.00   \n",
              "1       Manual  Second Owner    21.14  1498.0     103.52   \n",
              "2       Manual   First Owner    23.00  1396.0      90.00   \n",
              "4       Manual   First Owner    20.14  1197.0      81.86   \n",
              "6       Manual  Second Owner    16.10   796.0      37.00   \n",
              "\n",
              "                     torque  seats  \n",
              "0            190Nm@ 2000rpm    5.0  \n",
              "1       250Nm@ 1500-2500rpm    5.0  \n",
              "2  22.4 kgm at 1750-2750rpm    5.0  \n",
              "4         113.75nm@ 4000rpm    5.0  \n",
              "6             59Nm@ 2500rpm    4.0  "
            ]
          },
          "execution_count": 90,
          "metadata": {},
          "output_type": "execute_result"
        }
      ],
      "source": [
        "X_train.head()"
      ]
    },
    {
      "cell_type": "code",
      "execution_count": 91,
      "metadata": {},
      "outputs": [
        {
          "data": {
            "text/html": [
              "<div>\n",
              "<style scoped>\n",
              "    .dataframe tbody tr th:only-of-type {\n",
              "        vertical-align: middle;\n",
              "    }\n",
              "\n",
              "    .dataframe tbody tr th {\n",
              "        vertical-align: top;\n",
              "    }\n",
              "\n",
              "    .dataframe thead th {\n",
              "        text-align: right;\n",
              "    }\n",
              "</style>\n",
              "<table border=\"1\" class=\"dataframe\">\n",
              "  <thead>\n",
              "    <tr style=\"text-align: right;\">\n",
              "      <th></th>\n",
              "      <th>name</th>\n",
              "      <th>year</th>\n",
              "      <th>km_driven</th>\n",
              "      <th>fuel</th>\n",
              "      <th>seller_type</th>\n",
              "      <th>transmission</th>\n",
              "      <th>owner</th>\n",
              "      <th>mileage</th>\n",
              "      <th>engine</th>\n",
              "      <th>max_power</th>\n",
              "      <th>torque</th>\n",
              "      <th>seats</th>\n",
              "    </tr>\n",
              "  </thead>\n",
              "  <tbody>\n",
              "    <tr>\n",
              "      <th>0</th>\n",
              "      <td>Mahindra Xylo E4 BS IV</td>\n",
              "      <td>2010</td>\n",
              "      <td>168000</td>\n",
              "      <td>Diesel</td>\n",
              "      <td>Individual</td>\n",
              "      <td>Manual</td>\n",
              "      <td>First Owner</td>\n",
              "      <td>14.0</td>\n",
              "      <td>2498.0</td>\n",
              "      <td>112.0</td>\n",
              "      <td>260 Nm at 1800-2200 rpm</td>\n",
              "      <td>7.0</td>\n",
              "    </tr>\n",
              "    <tr>\n",
              "      <th>1</th>\n",
              "      <td>Tata Nexon 1.5 Revotorq XE</td>\n",
              "      <td>2017</td>\n",
              "      <td>25000</td>\n",
              "      <td>Diesel</td>\n",
              "      <td>Individual</td>\n",
              "      <td>Manual</td>\n",
              "      <td>First Owner</td>\n",
              "      <td>21.5</td>\n",
              "      <td>1497.0</td>\n",
              "      <td>108.5</td>\n",
              "      <td>260Nm@ 1500-2750rpm</td>\n",
              "      <td>5.0</td>\n",
              "    </tr>\n",
              "    <tr>\n",
              "      <th>2</th>\n",
              "      <td>Honda Civic 1.8 S AT</td>\n",
              "      <td>2007</td>\n",
              "      <td>218463</td>\n",
              "      <td>Petrol</td>\n",
              "      <td>Individual</td>\n",
              "      <td>Automatic</td>\n",
              "      <td>First Owner</td>\n",
              "      <td>12.9</td>\n",
              "      <td>1799.0</td>\n",
              "      <td>130.0</td>\n",
              "      <td>172Nm@ 4300rpm</td>\n",
              "      <td>5.0</td>\n",
              "    </tr>\n",
              "    <tr>\n",
              "      <th>3</th>\n",
              "      <td>Honda City i DTEC VX</td>\n",
              "      <td>2015</td>\n",
              "      <td>173000</td>\n",
              "      <td>Diesel</td>\n",
              "      <td>Individual</td>\n",
              "      <td>Manual</td>\n",
              "      <td>First Owner</td>\n",
              "      <td>25.1</td>\n",
              "      <td>1498.0</td>\n",
              "      <td>98.6</td>\n",
              "      <td>200Nm@ 1750rpm</td>\n",
              "      <td>5.0</td>\n",
              "    </tr>\n",
              "    <tr>\n",
              "      <th>4</th>\n",
              "      <td>Tata Indica Vista Aura 1.2 Safire BSIV</td>\n",
              "      <td>2011</td>\n",
              "      <td>70000</td>\n",
              "      <td>Petrol</td>\n",
              "      <td>Individual</td>\n",
              "      <td>Manual</td>\n",
              "      <td>Second Owner</td>\n",
              "      <td>16.5</td>\n",
              "      <td>1172.0</td>\n",
              "      <td>65.0</td>\n",
              "      <td>96  Nm at 3000  rpm</td>\n",
              "      <td>5.0</td>\n",
              "    </tr>\n",
              "  </tbody>\n",
              "</table>\n",
              "</div>"
            ],
            "text/plain": [
              "                                     name  year  km_driven    fuel  \\\n",
              "0                  Mahindra Xylo E4 BS IV  2010     168000  Diesel   \n",
              "1              Tata Nexon 1.5 Revotorq XE  2017      25000  Diesel   \n",
              "2                    Honda Civic 1.8 S AT  2007     218463  Petrol   \n",
              "3                    Honda City i DTEC VX  2015     173000  Diesel   \n",
              "4  Tata Indica Vista Aura 1.2 Safire BSIV  2011      70000  Petrol   \n",
              "\n",
              "  seller_type transmission         owner  mileage  engine  max_power  \\\n",
              "0  Individual       Manual   First Owner     14.0  2498.0      112.0   \n",
              "1  Individual       Manual   First Owner     21.5  1497.0      108.5   \n",
              "2  Individual    Automatic   First Owner     12.9  1799.0      130.0   \n",
              "3  Individual       Manual   First Owner     25.1  1498.0       98.6   \n",
              "4  Individual       Manual  Second Owner     16.5  1172.0       65.0   \n",
              "\n",
              "                    torque  seats  \n",
              "0  260 Nm at 1800-2200 rpm    7.0  \n",
              "1      260Nm@ 1500-2750rpm    5.0  \n",
              "2           172Nm@ 4300rpm    5.0  \n",
              "3           200Nm@ 1750rpm    5.0  \n",
              "4     96  Nm at 3000  rpm     5.0  "
            ]
          },
          "execution_count": 91,
          "metadata": {},
          "output_type": "execute_result"
        }
      ],
      "source": [
        "X_test.head()"
      ]
    },
    {
      "cell_type": "code",
      "execution_count": 92,
      "metadata": {},
      "outputs": [
        {
          "name": "stdout",
          "output_type": "stream",
          "text": [
            "<class 'pandas.core.frame.DataFrame'>\n",
            "Index: 6699 entries, 0 to 6997\n",
            "Data columns (total 3 columns):\n",
            " #   Column     Non-Null Count  Dtype  \n",
            "---  ------     --------------  -----  \n",
            " 0   mileage    6497 non-null   float64\n",
            " 1   engine     6497 non-null   float64\n",
            " 2   max_power  6503 non-null   float64\n",
            "dtypes: float64(3)\n",
            "memory usage: 209.3 KB\n",
            "<class 'pandas.core.frame.DataFrame'>\n",
            "RangeIndex: 1000 entries, 0 to 999\n",
            "Data columns (total 3 columns):\n",
            " #   Column     Non-Null Count  Dtype  \n",
            "---  ------     --------------  -----  \n",
            " 0   mileage    981 non-null    float64\n",
            " 1   engine     981 non-null    float64\n",
            " 2   max_power  981 non-null    float64\n",
            "dtypes: float64(3)\n",
            "memory usage: 23.6 KB\n"
          ]
        }
      ],
      "source": [
        "X_train[['mileage', 'engine' , 'max_power']].info()\n",
        "X_test[['mileage', 'engine' , 'max_power']].info()"
      ]
    },
    {
      "cell_type": "code",
      "execution_count": 93,
      "metadata": {
        "id": "vP0FYosyix7_"
      },
      "outputs": [],
      "source": [
        "new_Xtrain = X_train[['year', 'km_driven', 'seats', 'engine', 'mileage', 'max_power']]\n",
        "New_Xtest = X_test[['year', 'km_driven', 'seats', 'engine', 'mileage', 'max_power']]"
      ]
    },
    {
      "cell_type": "code",
      "execution_count": 94,
      "metadata": {},
      "outputs": [
        {
          "data": {
            "text/html": [
              "<div>\n",
              "<style scoped>\n",
              "    .dataframe tbody tr th:only-of-type {\n",
              "        vertical-align: middle;\n",
              "    }\n",
              "\n",
              "    .dataframe tbody tr th {\n",
              "        vertical-align: top;\n",
              "    }\n",
              "\n",
              "    .dataframe thead th {\n",
              "        text-align: right;\n",
              "    }\n",
              "</style>\n",
              "<table border=\"1\" class=\"dataframe\">\n",
              "  <thead>\n",
              "    <tr style=\"text-align: right;\">\n",
              "      <th></th>\n",
              "      <th>name</th>\n",
              "      <th>year</th>\n",
              "      <th>km_driven</th>\n",
              "      <th>fuel</th>\n",
              "      <th>seller_type</th>\n",
              "      <th>transmission</th>\n",
              "      <th>owner</th>\n",
              "      <th>mileage</th>\n",
              "      <th>engine</th>\n",
              "      <th>max_power</th>\n",
              "      <th>torque</th>\n",
              "      <th>seats</th>\n",
              "    </tr>\n",
              "  </thead>\n",
              "  <tbody>\n",
              "    <tr>\n",
              "      <th>0</th>\n",
              "      <td>Maruti Swift Dzire VDI</td>\n",
              "      <td>2014.0</td>\n",
              "      <td>145500.0</td>\n",
              "      <td>Diesel</td>\n",
              "      <td>Individual</td>\n",
              "      <td>Manual</td>\n",
              "      <td>First Owner</td>\n",
              "      <td>23.40</td>\n",
              "      <td>1248.0</td>\n",
              "      <td>74.00</td>\n",
              "      <td>190Nm@ 2000rpm</td>\n",
              "      <td>5.0</td>\n",
              "    </tr>\n",
              "    <tr>\n",
              "      <th>1</th>\n",
              "      <td>Skoda Rapid 1.5 TDI Ambition</td>\n",
              "      <td>2014.0</td>\n",
              "      <td>120000.0</td>\n",
              "      <td>Diesel</td>\n",
              "      <td>Individual</td>\n",
              "      <td>Manual</td>\n",
              "      <td>Second Owner</td>\n",
              "      <td>21.14</td>\n",
              "      <td>1498.0</td>\n",
              "      <td>103.52</td>\n",
              "      <td>250Nm@ 1500-2500rpm</td>\n",
              "      <td>5.0</td>\n",
              "    </tr>\n",
              "    <tr>\n",
              "      <th>2</th>\n",
              "      <td>Hyundai i20 Sportz Diesel</td>\n",
              "      <td>2010.0</td>\n",
              "      <td>127000.0</td>\n",
              "      <td>Diesel</td>\n",
              "      <td>Individual</td>\n",
              "      <td>Manual</td>\n",
              "      <td>First Owner</td>\n",
              "      <td>23.00</td>\n",
              "      <td>1396.0</td>\n",
              "      <td>90.00</td>\n",
              "      <td>22.4 kgm at 1750-2750rpm</td>\n",
              "      <td>5.0</td>\n",
              "    </tr>\n",
              "    <tr>\n",
              "      <th>4</th>\n",
              "      <td>Hyundai Xcent 1.2 VTVT E Plus</td>\n",
              "      <td>2017.0</td>\n",
              "      <td>45000.0</td>\n",
              "      <td>Petrol</td>\n",
              "      <td>Individual</td>\n",
              "      <td>Manual</td>\n",
              "      <td>First Owner</td>\n",
              "      <td>20.14</td>\n",
              "      <td>1197.0</td>\n",
              "      <td>81.86</td>\n",
              "      <td>113.75nm@ 4000rpm</td>\n",
              "      <td>5.0</td>\n",
              "    </tr>\n",
              "    <tr>\n",
              "      <th>6</th>\n",
              "      <td>Maruti 800 DX BSII</td>\n",
              "      <td>2001.0</td>\n",
              "      <td>5000.0</td>\n",
              "      <td>Petrol</td>\n",
              "      <td>Individual</td>\n",
              "      <td>Manual</td>\n",
              "      <td>Second Owner</td>\n",
              "      <td>16.10</td>\n",
              "      <td>796.0</td>\n",
              "      <td>37.00</td>\n",
              "      <td>59Nm@ 2500rpm</td>\n",
              "      <td>4.0</td>\n",
              "    </tr>\n",
              "  </tbody>\n",
              "</table>\n",
              "</div>"
            ],
            "text/plain": [
              "                            name    year  km_driven    fuel seller_type  \\\n",
              "0         Maruti Swift Dzire VDI  2014.0   145500.0  Diesel  Individual   \n",
              "1   Skoda Rapid 1.5 TDI Ambition  2014.0   120000.0  Diesel  Individual   \n",
              "2      Hyundai i20 Sportz Diesel  2010.0   127000.0  Diesel  Individual   \n",
              "4  Hyundai Xcent 1.2 VTVT E Plus  2017.0    45000.0  Petrol  Individual   \n",
              "6             Maruti 800 DX BSII  2001.0     5000.0  Petrol  Individual   \n",
              "\n",
              "  transmission         owner  mileage  engine  max_power  \\\n",
              "0       Manual   First Owner    23.40  1248.0      74.00   \n",
              "1       Manual  Second Owner    21.14  1498.0     103.52   \n",
              "2       Manual   First Owner    23.00  1396.0      90.00   \n",
              "4       Manual   First Owner    20.14  1197.0      81.86   \n",
              "6       Manual  Second Owner    16.10   796.0      37.00   \n",
              "\n",
              "                     torque  seats  \n",
              "0            190Nm@ 2000rpm    5.0  \n",
              "1       250Nm@ 1500-2500rpm    5.0  \n",
              "2  22.4 kgm at 1750-2750rpm    5.0  \n",
              "4         113.75nm@ 4000rpm    5.0  \n",
              "6             59Nm@ 2500rpm    4.0  "
            ]
          },
          "execution_count": 94,
          "metadata": {},
          "output_type": "execute_result"
        }
      ],
      "source": [
        "X_train.head()"
      ]
    },
    {
      "cell_type": "code",
      "execution_count": 95,
      "metadata": {},
      "outputs": [
        {
          "data": {
            "text/plain": [
              "year           0\n",
              "km_driven      0\n",
              "seats        202\n",
              "engine       202\n",
              "mileage      202\n",
              "max_power    196\n",
              "dtype: int64"
            ]
          },
          "execution_count": 95,
          "metadata": {},
          "output_type": "execute_result"
        }
      ],
      "source": [
        "new_Xtrain.isna().sum()"
      ]
    },
    {
      "cell_type": "code",
      "execution_count": 96,
      "metadata": {},
      "outputs": [
        {
          "data": {
            "text/plain": [
              "year          0\n",
              "km_driven     0\n",
              "seats        19\n",
              "engine       19\n",
              "mileage      19\n",
              "max_power    19\n",
              "dtype: int64"
            ]
          },
          "execution_count": 96,
          "metadata": {},
          "output_type": "execute_result"
        }
      ],
      "source": [
        "New_Xtest.isna().sum()"
      ]
    },
    {
      "cell_type": "code",
      "execution_count": 97,
      "metadata": {},
      "outputs": [],
      "source": [
        "from sklearn.impute import SimpleImputer\n",
        "columns=New_Xtest.columns \n",
        "imputer = SimpleImputer(strategy='mean')\n",
        "imputer.fit(new_Xtrain)\n",
        "new_Xtrain =pd.DataFrame(imputer.transform(new_Xtrain),columns=columns)\n",
        "New_Xtest =pd.DataFrame(imputer.transform(New_Xtest),columns=columns)"
      ]
    },
    {
      "cell_type": "code",
      "execution_count": 98,
      "metadata": {},
      "outputs": [
        {
          "data": {
            "text/plain": [
              "year         0\n",
              "km_driven    0\n",
              "seats        0\n",
              "engine       0\n",
              "mileage      0\n",
              "max_power    0\n",
              "dtype: int64"
            ]
          },
          "execution_count": 98,
          "metadata": {},
          "output_type": "execute_result"
        }
      ],
      "source": [
        "new_Xtrain.isna().sum()"
      ]
    },
    {
      "cell_type": "code",
      "execution_count": 99,
      "metadata": {},
      "outputs": [
        {
          "data": {
            "text/plain": [
              "year         0\n",
              "km_driven    0\n",
              "seats        0\n",
              "engine       0\n",
              "mileage      0\n",
              "max_power    0\n",
              "dtype: int64"
            ]
          },
          "execution_count": 99,
          "metadata": {},
          "output_type": "execute_result"
        }
      ],
      "source": [
        "New_Xtest.isna().sum()"
      ]
    },
    {
      "cell_type": "code",
      "execution_count": 100,
      "metadata": {
        "id": "cQ7iS1eu-s_8"
      },
      "outputs": [
        {
          "name": "stdout",
          "output_type": "stream",
          "text": [
            "Train LinearRegression(): 0.6406490031417004, RandomForestRegressor(random_state=42): 0.9941011030227218\n",
            "Test LinearRegression(): 0.6485839251280094, RandomForestRegressor(random_state=42): 0.9629520400960621\n"
          ]
        }
      ],
      "source": [
        "from sklearn.linear_model import LinearRegression\n",
        "from sklearn.ensemble import RandomForestRegressor\n",
        "from sklearn.metrics import r2_score\n",
        "\n",
        "model_len = LinearRegression()\n",
        "model_forester = RandomForestRegressor(random_state=42)\n",
        "\n",
        "model_len.fit(new_Xtrain,ytrain)\n",
        "model_forester.fit(new_Xtrain,ytrain)\n",
        "\n",
        "pred_len_test = model_len.predict(New_Xtest)\n",
        "pred_forester_test = model_forester.predict(New_Xtest)\n",
        "\n",
        "pred_len_train = model_len.predict(new_Xtrain)\n",
        "pred_forester_train = model_forester.predict(new_Xtrain)\n",
        "\n",
        "r2_len_test = r2_score(ytest,pred_len_test)\n",
        "r2_forester_test = r2_score(ytest,pred_forester_test)\n",
        "\n",
        "r2_len_train = r2_score(ytrain,pred_len_train)\n",
        "r2_forester_train = r2_score(ytrain,pred_forester_train)\n",
        "\n",
        "\n",
        "print(f'Train {model_len}: {r2_len_train}, {model_forester}: {r2_forester_train}')\n",
        "print(f'Test {model_len}: {r2_len_test}, {model_forester}: {r2_forester_test}')"
      ]
    },
    {
      "cell_type": "code",
      "execution_count": 101,
      "metadata": {
        "id": "j3N-kazm767P"
      },
      "outputs": [
        {
          "name": "stdout",
          "output_type": "stream",
          "text": [
            "Модель RandomForestRegressor(random_state=42) обучилась лучше на 0.3143681149680526\n"
          ]
        }
      ],
      "source": [
        "print(f'Модель {model_forester} обучилась лучше на {r2_forester_test-r2_len_test}')"
      ]
    },
    {
      "cell_type": "code",
      "execution_count": 103,
      "metadata": {},
      "outputs": [
        {
          "name": "stdout",
          "output_type": "stream",
          "text": [
            "Fitting 3 folds for each of 4320 candidates, totalling 12960 fits\n"
          ]
        },
        {
          "name": "stderr",
          "output_type": "stream",
          "text": [
            "c:\\Users\\79292\\anaconda3\\Lib\\site-packages\\sklearn\\model_selection\\_validation.py:378: FitFailedWarning: \n",
            "2592 fits failed out of a total of 12960.\n",
            "The score on these train-test partitions for these parameters will be set to nan.\n",
            "If these failures are not expected, you can try to debug them by setting error_score='raise'.\n",
            "\n",
            "Below are more details about the failures:\n",
            "--------------------------------------------------------------------------------\n",
            "2592 fits failed with the following error:\n",
            "Traceback (most recent call last):\n",
            "  File \"c:\\Users\\79292\\anaconda3\\Lib\\site-packages\\sklearn\\model_selection\\_validation.py\", line 686, in _fit_and_score\n",
            "    estimator.fit(X_train, y_train, **fit_params)\n",
            "  File \"c:\\Users\\79292\\anaconda3\\Lib\\site-packages\\sklearn\\ensemble\\_forest.py\", line 340, in fit\n",
            "    self._validate_params()\n",
            "  File \"c:\\Users\\79292\\anaconda3\\Lib\\site-packages\\sklearn\\base.py\", line 600, in _validate_params\n",
            "    validate_parameter_constraints(\n",
            "  File \"c:\\Users\\79292\\anaconda3\\Lib\\site-packages\\sklearn\\utils\\_param_validation.py\", line 97, in validate_parameter_constraints\n",
            "    raise InvalidParameterError(\n",
            "sklearn.utils._param_validation.InvalidParameterError: The 'min_samples_split' parameter of RandomForestRegressor must be an int in the range [2, inf) or a float in the range (0.0, 1.0]. Got 1 instead.\n",
            "\n",
            "  warnings.warn(some_fits_failed_message, FitFailedWarning)\n",
            "c:\\Users\\79292\\anaconda3\\Lib\\site-packages\\sklearn\\model_selection\\_search.py:952: UserWarning: One or more of the test scores are non-finite: [       nan        nan        nan ... 0.93337033 0.93417248 0.93314316]\n",
            "  warnings.warn(\n"
          ]
        },
        {
          "name": "stdout",
          "output_type": "stream",
          "text": [
            "Best score: 0.9502683419567192\n",
            "Best params: {'max_depth': 8, 'max_features': None, 'min_samples_leaf': 1, 'min_samples_split': 5, 'n_estimators': 50}\n"
          ]
        }
      ],
      "source": [
        "from sklearn.model_selection import GridSearchCV\n",
        "params = {'n_estimators': np.arange(20, 100, 10),\n",
        "    'max_depth': np.arange(2, 10, 2),\n",
        "    'max_features': ['log2', 'sqrt', None],\n",
        "    'min_samples_leaf': np.arange(1, 10, 1),\n",
        "    'min_samples_split': np.arange(1, 11, 2)\n",
        "}\n",
        "gs = GridSearchCV(estimator=RandomForestRegressor(),\n",
        "    param_grid=params,\n",
        "    scoring='r2',\n",
        "    cv=3,\n",
        "    verbose=1,\n",
        "    n_jobs=-1)\n",
        "\n",
        "gs.fit(new_Xtrain,ytrain)\n",
        "\n",
        "print(f'Best score: {gs.best_score_}')\n",
        "print(f'Best params: {gs.best_params_}')"
      ]
    },
    {
      "cell_type": "code",
      "execution_count": 104,
      "metadata": {
        "id": "MPdZ9qCxDrkF"
      },
      "outputs": [
        {
          "name": "stdout",
          "output_type": "stream",
          "text": [
            "LinearRegression() Train : 0.9775306471890757, test: 0.9558545433259407\n"
          ]
        }
      ],
      "source": [
        "model_forester_up = RandomForestRegressor(n_estimators=50, max_depth=8, max_features=None, min_samples_leaf=1, min_samples_split=5)\n",
        "\n",
        "model_forester_up.fit(new_Xtrain,ytrain)\n",
        "predict_train_up = model_forester_up.predict(new_Xtrain) \n",
        "predict_test_up = model_forester_up.predict(New_Xtest) \n",
        "\n",
        "r2_train_up = r2_score(ytrain,predict_train_up)\n",
        "r2_test_up = r2_score(ytest,predict_test_up)\n",
        "\n",
        "print(f'{model_len} Train : {r2_train_up}, test: {r2_test_up}')  "
      ]
    },
    {
      "cell_type": "code",
      "execution_count": 139,
      "metadata": {},
      "outputs": [
        {
          "data": {
            "image/png": "[encoded data removed]",
            "text/plain": [
              "<Figure size 640x480 with 1 Axes>"
            ]
          },
          "metadata": {},
          "output_type": "display_data"
        }
      ],
      "source": [
        "import matplotlib.pyplot as plt\n",
        "import seaborn as sns\n",
        "\n",
        "featuer = model_forester_up.feature_importances_\n",
        "featuer_agr = np.argsort(featuer)\n",
        "names = new_Xtrain.columns\n",
        "\n",
        "plt.title(model_forester_up)\n",
        "plt.barh(range(len(featuer_agr)), featuer[featuer_agr])\n",
        "plt.yticks(range(len(featuer_agr)), names[featuer_agr])\n",
        "plt.xlabel('Шкала важности признаков')\n",
        "plt.ylabel('Признаких данных');"
      ]
    },
    {
      "cell_type": "code",
      "execution_count": null,
      "metadata": {},
      "outputs": [],
      "source": []
    }
  ],
  "metadata": {
    "colab": {
      "provenance": []
    },
    "kernelspec": {
      "display_name": "Python 3",
      "name": "python3"
    },
    "language_info": {
      "codemirror_mode": {
        "name": "ipython",
        "version": 3
      },
      "file_extension": ".py",
      "mimetype": "text/x-python",
      "name": "python",
      "nbconvert_exporter": "python",
      "pygments_lexer": "ipython3",
      "version": "3.11.7"
    }
  },
  "nbformat": 4,
  "nbformat_minor": 0
}
